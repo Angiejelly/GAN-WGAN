{
 "cells": [
  {
   "cell_type": "markdown",
   "metadata": {
    "deletable": true,
    "editable": true
   },
   "source": [
    "# GAN vs WGAN\n",
    "\n",
    "-- Improve Performance of Generative Adversarial Networks(GAN) with Wasserstein Distance and Optimal Structure"
   ]
  },
  {
   "cell_type": "markdown",
   "metadata": {
    "deletable": true,
    "editable": true
   },
   "source": [
    "# What is GAN?"
   ]
  },
  {
   "cell_type": "code",
   "execution_count": null,
   "metadata": {
    "collapsed": true,
    "deletable": true,
    "editable": true
   },
   "outputs": [],
   "source": []
  },
  {
   "cell_type": "markdown",
   "metadata": {
    "deletable": true,
    "editable": true
   },
   "source": [
    "# What' s wrong with GAN?"
   ]
  },
  {
   "cell_type": "code",
   "execution_count": null,
   "metadata": {
    "collapsed": true,
    "deletable": true,
    "editable": true
   },
   "outputs": [],
   "source": []
  },
  {
   "cell_type": "markdown",
   "metadata": {
    "deletable": true,
    "editable": true
   },
   "source": [
    "# How does Wasserstein Distance improve GAN"
   ]
  },
  {
   "cell_type": "code",
   "execution_count": null,
   "metadata": {
    "collapsed": true,
    "deletable": true,
    "editable": true
   },
   "outputs": [],
   "source": []
  },
  {
   "cell_type": "markdown",
   "metadata": {
    "deletable": true,
    "editable": true
   },
   "source": [
    "# Combat: GAN vs. WGAN"
   ]
  },
  {
   "cell_type": "code",
   "execution_count": 4,
   "metadata": {
    "collapsed": true,
    "deletable": true,
    "editable": true
   },
   "outputs": [],
   "source": [
    "import tensorflow as tf\n",
    "from tensorflow.examples.tutorials.mnist import input_data\n",
    "import numpy as np\n",
    "import matplotlib.pyplot as plt\n",
    "import matplotlib.gridspec as gridspec\n",
    "import os"
   ]
  },
  {
   "cell_type": "code",
   "execution_count": null,
   "metadata": {
    "collapsed": false,
    "deletable": true,
    "editable": true
   },
   "outputs": [],
   "source": []
  },
  {
   "cell_type": "code",
   "execution_count": null,
   "metadata": {
    "collapsed": false,
    "deletable": true,
    "editable": true
   },
   "outputs": [],
   "source": []
  },
  {
   "cell_type": "markdown",
   "metadata": {
    "deletable": true,
    "editable": true
   },
   "source": [
    "# Refrences & Resources\n",
    "\n",
    "Papaers:\n",
    "\n",
    "[1] Arjovsky, Martin, and Léon Bottou. \"Towards principled methods for training generative adversarial networks.\" NIPS 2016 Workshop on Adversarial Training. In review for ICLR. Vol. 2016. 2017.\n",
    "\n",
    "[2] Arjovsky, Martin, Soumith Chintala, and Léon Bottou. \"Wasserstein GAN.\" arXiv preprint arXiv:1701.07875 (2017)\n",
    "\n",
    "[3] Dumoulin, Vincent, et al. \"Adversarially learned inference.\" arXiv preprint arXiv:1606.00704 (2016). \n",
    "    code: https://ishmaelbelghazi.github.io/ALI/\n",
    "\n",
    "Blogs:\n",
    "\n",
    "[1] An introduction to Generative Adversarial Networks http://blog.aylien.com/introduction-generative-adversarial-networks-code-tensorflow/\n",
    "\n",
    "[2] Generative Adversarial Nets in TensorFlow http://blog.evjang.com/2016/06/generative-adversarial-nets-in.html\n",
    "\n",
    "[3] Wasserstein GAN implementation in TensorFlow and Pytorch http://wiseodd.github.io/techblog/2017/02/04/wasserstein-gan/\n",
    "\n",
    "Code/Environment Resources:\n",
    "\n",
    "[1] Implement of WGAN via PyTorch, by Martin Arjovsky, first author of Paper[1] https://github.com/martinarjovsky/WassersteinGAN\n",
    "\n",
    "[2] Implement of various GAN models via TensorFlow & PyTorch https://github.com/wiseodd/generative-models\n",
    "\n",
    "[3] Start deep learning with Jupyter notebooks in the cloud http://efavdb.com/deep-learning-with-jupyter-on-aws/\n",
    "\n",
    "[4] Deep Learning on Amazon Machine Image, from Stanford CS231n, http://cs231n.github.io/aws-tutorial/"
   ]
  }
 ],
 "metadata": {
  "anaconda-cloud": {},
  "kernelspec": {
   "display_name": "Python 2",
   "language": "python",
   "name": "python2"
  },
  "language_info": {
   "codemirror_mode": {
    "name": "ipython",
    "version": 2
   },
   "file_extension": ".py",
   "mimetype": "text/x-python",
   "name": "python",
   "nbconvert_exporter": "python",
   "pygments_lexer": "ipython2",
   "version": "2.7.13"
  }
 },
 "nbformat": 4,
 "nbformat_minor": 1
}
